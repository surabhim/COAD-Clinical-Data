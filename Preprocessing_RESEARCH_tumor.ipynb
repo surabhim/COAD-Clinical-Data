{
 "cells": [
  {
   "cell_type": "code",
   "execution_count": 2,
   "metadata": {
    "collapsed": true
   },
   "outputs": [],
   "source": [
    "import pandas as pd\n",
    "import numpy as np\n",
    "\n",
    "from sklearn.preprocessing import LabelEncoder\n",
    "\n",
    "pd.set_option('display.width', 5000) \n",
    "pd.set_option('display.max_columns', 90)"
   ]
  },
  {
   "cell_type": "code",
   "execution_count": 6,
   "metadata": {},
   "outputs": [
    {
     "name": "stdout",
     "output_type": "stream",
     "text": [
      "Index([u'CASE_NO', u'ACCRUAL_ID', u'TUMOR_ID', u'ORGAN', u'LOCALIZATION', u'LOCALIZATION_VALUE', u'LOCALIZATION_DETAIL', u'CLASSIFICATION_ORGAN', u'HISTOLOGIC_TYPE', u'MORPHOLOGY_ICDO_CODE', u'MORPHOLOGY_ICDO_DESC', u'PTNM_EDITION', u'PTNM_T', u'PTNM_M', u'PTNM_N', u'PTNM_N_POSITIVE', u'PTNM_N_TOTAL', u'PTNM_L', u'PTNM_V', u'PRADICALITY', u'STAGE', u'RADICALITY', u'GRADING', u'MALIGNANCE', u'CLASSIFICATION_COMMENT', u'TOTAL_LENGTH', u'TUMOR_SIZE', u'DISTANCE_TO_BORDER', u'RESECTION_PROCEDURE', u'RESECTION_TYPE', u'TRANSECTION_START', u'TRANSECTION_END', u'TRANSSECTION_DISTAL_TIME', u'TRANSSECTION_PROXIMAL_TIME', u'RESECTION_COMPLETED_TIME', u'PRESENTATION_TO_SURGEON_TIME', u'SAMPLES_FREEZING_TIME', u'SAMPLES_FORMALIN_TIME', u'SAMPLES_GLUTARALDEHYDE_TIME', u'VESSEL_RESECTION_COMPLET_TIME', u'VESSEL_SAMPLES_FREEZING_TIME', u'VESSEL_SAMPLES_FORMALIN_TIME', u'RESECTION_COMPL_TO_FREEZE', u'RESECTION_COMPL_TO_FORMALIN', u'VESSEL_RESEC_COMPL_TO_FREEZE', u'VESSEL_RESEC_COMPL_TO_FORMALIN', u'TRANSECTION_START_TO_FREEZE', u'TRANSECTION_START_TO_FORMALIN', u'TRANSECTION_END_TO_FREEZE', u'TRANSECTION_END_TO_FORMALIN', u'TRANSECTION_DISTAL_TO_FREEZE', u'TRANSECTION_DISTAL_TO_FORMALIN', u'TRANSECTION_PROXIM_TO_FREEZE', u'TRANSECTION_PROXIM_TO_FORMALIN', u'SURGERY_RESECTION_COMPL_TIME', u'ANESTH_RESECTION_COMPL_TIME', u'SURG_VESSEL_RESEC_COMPL_TIME', u'ANESTH_VESSEL_RESEC_COMPL_TIME', u'SURGERY_VESSEL_FREEZING_TIME', u'ANESTH_VESSEL_FREEZING_TIME', u'SURGERY_VESSEL_FORMALIN_TIME', u'ANESTH_VESSEL_FORMALIN_TIME', u'SURGERY_SAMPLES_FREEZING_TIME', u'ANESTH_SAMPLES_FREEZING_TIME', u'SURGERY_SAMPLES_FORMALIN_TIME', u'ANESTH_SAMPLES_FORMALIN_TIME', u'CIRCUMF_BORDER_FREE', u'ANASTOMOSIS_SUTURE', u'PROTECTIVE_PRENATURAL_ANUS', u'ANASTOMOSIS_LOCATION', u'POUCH', u'ESTROGENS', u'PROGESTERONE', u'HER', u'BENIGN_PROSTATIC_HYPERPLASIA', u'PROSTATIC_VALUE', u'GLEASON_SCORE_1', u'GLEASON_SCORE_2', u'GLEASON_SCORE_TOTAL', u'MARGIN', u'MULTIVISCERAL_RESECTION', u'TME_PME'], dtype='object')\n"
     ]
    }
   ],
   "source": [
    "in1 = pd.read_csv('./RESEARCH_TUMOR.dsv', delimiter='\\t', low_memory=False)\n",
    "in2 = in1[in1['ORGAN']==\"colon\"]\n",
    "print in2.columns"
   ]
  },
  {
   "cell_type": "code",
   "execution_count": 5,
   "metadata": {},
   "outputs": [
    {
     "name": "stdout",
     "output_type": "stream",
     "text": [
      "(25722, 82) (6253, 82)\n"
     ]
    }
   ],
   "source": [
    "print in1.shape, in2.shape"
   ]
  },
  {
   "cell_type": "code",
   "execution_count": 7,
   "metadata": {},
   "outputs": [
    {
     "name": "stdout",
     "output_type": "stream",
     "text": [
      "171\n"
     ]
    },
    {
     "data": {
      "text/html": [
       "<div>\n",
       "<style>\n",
       "    .dataframe thead tr:only-child th {\n",
       "        text-align: right;\n",
       "    }\n",
       "\n",
       "    .dataframe thead th {\n",
       "        text-align: left;\n",
       "    }\n",
       "\n",
       "    .dataframe tbody tr th {\n",
       "        vertical-align: top;\n",
       "    }\n",
       "</style>\n",
       "<table border=\"1\" class=\"dataframe\">\n",
       "  <thead>\n",
       "    <tr style=\"text-align: right;\">\n",
       "      <th></th>\n",
       "      <th>TCGA</th>\n",
       "      <th>CaseID</th>\n",
       "      <th>CASE_NO</th>\n",
       "    </tr>\n",
       "  </thead>\n",
       "  <tbody>\n",
       "    <tr>\n",
       "      <th>0</th>\n",
       "      <td>TCGA-AA-3526</td>\n",
       "      <td>A1888-Tp2</td>\n",
       "      <td>A1888</td>\n",
       "    </tr>\n",
       "    <tr>\n",
       "      <th>1</th>\n",
       "      <td>TCGA-AA-3831</td>\n",
       "      <td>B1164-Tp1</td>\n",
       "      <td>B1164</td>\n",
       "    </tr>\n",
       "    <tr>\n",
       "      <th>2</th>\n",
       "      <td>TCGA-AA-3529</td>\n",
       "      <td>A1862-Tp1</td>\n",
       "      <td>A1862</td>\n",
       "    </tr>\n",
       "    <tr>\n",
       "      <th>3</th>\n",
       "      <td>TCGA-AA-A01C</td>\n",
       "      <td>A2733</td>\n",
       "      <td>A2733</td>\n",
       "    </tr>\n",
       "    <tr>\n",
       "      <th>4</th>\n",
       "      <td>TCGA-AA-3549</td>\n",
       "      <td>A2327-Tp1</td>\n",
       "      <td>A2327</td>\n",
       "    </tr>\n",
       "  </tbody>\n",
       "</table>\n",
       "</div>"
      ],
      "text/plain": [
       "           TCGA     CaseID CASE_NO\n",
       "0  TCGA-AA-3526  A1888-Tp2   A1888\n",
       "1  TCGA-AA-3831  B1164-Tp1   B1164\n",
       "2  TCGA-AA-3529  A1862-Tp1   A1862\n",
       "3  TCGA-AA-A01C      A2733   A2733\n",
       "4  TCGA-AA-3549  A2327-Tp1   A2327"
      ]
     },
     "execution_count": 7,
     "metadata": {},
     "output_type": "execute_result"
    }
   ],
   "source": [
    "tcga_case = pd.read_csv('./tcga_caseID_171.lst', delim_whitespace=True)\n",
    "tcga_case['CASE_NO'] = tcga_case.CaseID.map(lambda x: x.split('-')[0])\n",
    "print (tcga_case.CASE_NO.size)\n",
    "tcga_case.head()"
   ]
  },
  {
   "cell_type": "code",
   "execution_count": 9,
   "metadata": {},
   "outputs": [
    {
     "name": "stdout",
     "output_type": "stream",
     "text": [
      "\n"
     ]
    }
   ],
   "source": [
    "case_171  = pd.merge(tcga_case, in1, how='inner')"
   ]
  },
  {
   "cell_type": "code",
   "execution_count": 10,
   "metadata": {
    "scrolled": true
   },
   "outputs": [
    {
     "name": "stdout",
     "output_type": "stream",
     "text": [
      "Original case_171 SHAPE: (195, 84)\n",
      "\n",
      "Drop variables with >20% NaN values \n",
      "\n",
      "case_171 SHAPE: (195, 48)\n"
     ]
    }
   ],
   "source": [
    "print \"Original case_171 SHAPE:\",case_171.shape\n",
    "print \"\\nDrop variables with >20% NaN values \\n\"\n",
    "case_171 = case_171.dropna(axis=1, thresh = 0.8*len(case_171))\n",
    "print \"case_171 SHAPE:\",case_171.shape"
   ]
  },
  {
   "cell_type": "code",
   "execution_count": 7,
   "metadata": {},
   "outputs": [
    {
     "name": "stdout",
     "output_type": "stream",
     "text": [
      "\n",
      "NaN distribution : \n",
      "\n",
      "CASE_NO                 0.000000\n",
      "TCGA                    0.000000\n",
      "LOCALIZATION            0.000000\n",
      "CLASSIFICATION_ORGAN    0.000000\n",
      "PRADICALITY             7.179487\n",
      "STAGE                   5.641026\n",
      "RADICALITY              8.717949\n",
      "GRADING                 5.128205\n",
      "TOTAL_LENGTH            1.025641\n",
      "TUMOR_SIZE              1.025641\n",
      "dtype: float64\n"
     ]
    }
   ],
   "source": [
    "## Select columns with biological relevance to our study \n",
    "case_171 = case_171[['CASE_NO','TCGA','LOCALIZATION','CLASSIFICATION_ORGAN','PRADICALITY','STAGE',\n",
    "                     'RADICALITY','GRADING','TOTAL_LENGTH','TUMOR_SIZE']]\n",
    "print \"\\nNaN distribution : \\n\"\n",
    "print (case_171.isnull().sum(axis=0)*100/case_171.shape[0])"
   ]
  },
  {
   "cell_type": "code",
   "execution_count": 9,
   "metadata": {},
   "outputs": [
    {
     "name": "stdout",
     "output_type": "stream",
     "text": [
      "##LOCALIZATION##\n",
      "\n",
      "sigmoid colon       40.512821\n",
      "ascending colon     20.000000\n",
      "ileocaecal          16.923077\n",
      "transverse colon     8.717949\n",
      "right flexure        5.641026\n",
      "descending colon     4.102564\n",
      "rectum               2.564103\n",
      "left flexure         1.538462\n",
      "Name: LOCALIZATION, dtype: float64\n",
      "\n",
      "####STAGE####\n",
      "\n",
      "IIA      23.076923\n",
      "I        18.461538\n",
      "IV       13.333333\n",
      "II       12.820513\n",
      "III       9.230769\n",
      "III C     7.179487\n",
      "III B     5.128205\n",
      "III A     2.564103\n",
      "IIB       2.051282\n",
      "IVA       0.512821\n",
      "Name: STAGE, dtype: float64\n",
      "\n",
      "####GRADING####\n",
      "\n",
      "G2    64.615385\n",
      "G3    29.743590\n",
      "G1     0.512821\n",
      "Name: GRADING, dtype: float64\n",
      "\n",
      "####PRADICALITY####\n",
      "\n",
      "R0    91.282051\n",
      "R1     1.538462\n",
      "Name: PRADICALITY, dtype: float64\n"
     ]
    }
   ],
   "source": [
    "print \"##LOCALIZATION##\\n\"\n",
    "print case_171.LOCALIZATION.value_counts()/case_171.shape[0] * 100\n",
    "print \"\\n####STAGE####\\n\"\n",
    "print case_171.STAGE.value_counts()/case_171.shape[0] * 100\n",
    "print \"\\n####GRADING####\\n\"\n",
    "print case_171.GRADING.value_counts()/case_171.shape[0] * 100\n",
    "print \"\\n####PRADICALITY####\\n\"\n",
    "print case_171.PRADICALITY.value_counts()/case_171.shape[0] * 100"
   ]
  },
  {
   "cell_type": "code",
   "execution_count": 11,
   "metadata": {},
   "outputs": [
    {
     "name": "stdout",
     "output_type": "stream",
     "text": [
      "## New STAGE distribution ## \n",
      "\n",
      "II     37.948718\n",
      "III    24.102564\n",
      "I      18.461538\n",
      "IV     13.846154\n",
      "Name: STAGE, dtype: float64\n",
      "##New LOCALIZATION distribution##\n",
      "\n",
      "sigmoid colon       40.512821\n",
      "ascending colon     20.000000\n",
      "ileocaecal          16.923077\n",
      "transverse colon     8.717949\n",
      "flexture             7.179487\n",
      "descending           6.666667\n",
      "Name: LOCALIZATION, dtype: float64\n"
     ]
    },
    {
     "data": {
      "text/html": [
       "<div>\n",
       "<style>\n",
       "    .dataframe thead tr:only-child th {\n",
       "        text-align: right;\n",
       "    }\n",
       "\n",
       "    .dataframe thead th {\n",
       "        text-align: left;\n",
       "    }\n",
       "\n",
       "    .dataframe tbody tr th {\n",
       "        vertical-align: top;\n",
       "    }\n",
       "</style>\n",
       "<table border=\"1\" class=\"dataframe\">\n",
       "  <thead>\n",
       "    <tr style=\"text-align: right;\">\n",
       "      <th></th>\n",
       "      <th>TCGA</th>\n",
       "      <th>CASE_NO</th>\n",
       "      <th>STAGE</th>\n",
       "      <th>GRADING</th>\n",
       "      <th>LOCALIZATION</th>\n",
       "    </tr>\n",
       "  </thead>\n",
       "  <tbody>\n",
       "    <tr>\n",
       "      <th>0</th>\n",
       "      <td>TCGA-AA-3526</td>\n",
       "      <td>A1888</td>\n",
       "      <td>I</td>\n",
       "      <td>G2</td>\n",
       "      <td>sigmoid colon</td>\n",
       "    </tr>\n",
       "    <tr>\n",
       "      <th>1</th>\n",
       "      <td>TCGA-AA-3831</td>\n",
       "      <td>B1164</td>\n",
       "      <td>II</td>\n",
       "      <td>G3</td>\n",
       "      <td>sigmoid colon</td>\n",
       "    </tr>\n",
       "    <tr>\n",
       "      <th>2</th>\n",
       "      <td>TCGA-AA-3529</td>\n",
       "      <td>A1862</td>\n",
       "      <td>III</td>\n",
       "      <td>G2</td>\n",
       "      <td>sigmoid colon</td>\n",
       "    </tr>\n",
       "    <tr>\n",
       "      <th>3</th>\n",
       "      <td>TCGA-AA-3529</td>\n",
       "      <td>A1862</td>\n",
       "      <td>III</td>\n",
       "      <td>G2</td>\n",
       "      <td>descending</td>\n",
       "    </tr>\n",
       "    <tr>\n",
       "      <th>4</th>\n",
       "      <td>TCGA-AA-A01C</td>\n",
       "      <td>A2733</td>\n",
       "      <td>III</td>\n",
       "      <td>G2</td>\n",
       "      <td>transverse colon</td>\n",
       "    </tr>\n",
       "    <tr>\n",
       "      <th>5</th>\n",
       "      <td>TCGA-AA-A01C</td>\n",
       "      <td>A2733</td>\n",
       "      <td>III</td>\n",
       "      <td>G2</td>\n",
       "      <td>ascending colon</td>\n",
       "    </tr>\n",
       "    <tr>\n",
       "      <th>6</th>\n",
       "      <td>TCGA-AA-3549</td>\n",
       "      <td>A2327</td>\n",
       "      <td>I</td>\n",
       "      <td>G2</td>\n",
       "      <td>ileocaecal</td>\n",
       "    </tr>\n",
       "    <tr>\n",
       "      <th>7</th>\n",
       "      <td>TCGA-AA-3696</td>\n",
       "      <td>A2779</td>\n",
       "      <td>IV</td>\n",
       "      <td>G2</td>\n",
       "      <td>sigmoid colon</td>\n",
       "    </tr>\n",
       "    <tr>\n",
       "      <th>8</th>\n",
       "      <td>TCGA-AA-A03F</td>\n",
       "      <td>A607</td>\n",
       "      <td>III</td>\n",
       "      <td>G2</td>\n",
       "      <td>ileocaecal</td>\n",
       "    </tr>\n",
       "    <tr>\n",
       "      <th>9</th>\n",
       "      <td>TCGA-AA-3697</td>\n",
       "      <td>A302</td>\n",
       "      <td>II</td>\n",
       "      <td>G2</td>\n",
       "      <td>sigmoid colon</td>\n",
       "    </tr>\n",
       "    <tr>\n",
       "      <th>10</th>\n",
       "      <td>TCGA-AA-A02H</td>\n",
       "      <td>B936</td>\n",
       "      <td>IV</td>\n",
       "      <td>G3</td>\n",
       "      <td>sigmoid colon</td>\n",
       "    </tr>\n",
       "    <tr>\n",
       "      <th>11</th>\n",
       "      <td>TCGA-AA-3517</td>\n",
       "      <td>A1717</td>\n",
       "      <td>NaN</td>\n",
       "      <td>NaN</td>\n",
       "      <td>descending</td>\n",
       "    </tr>\n",
       "    <tr>\n",
       "      <th>12</th>\n",
       "      <td>TCGA-AA-3517</td>\n",
       "      <td>A1717</td>\n",
       "      <td>II</td>\n",
       "      <td>G2</td>\n",
       "      <td>flexture</td>\n",
       "    </tr>\n",
       "    <tr>\n",
       "      <th>13</th>\n",
       "      <td>TCGA-AA-3819</td>\n",
       "      <td>B1034</td>\n",
       "      <td>II</td>\n",
       "      <td>G2</td>\n",
       "      <td>sigmoid colon</td>\n",
       "    </tr>\n",
       "    <tr>\n",
       "      <th>14</th>\n",
       "      <td>TCGA-AA-3952</td>\n",
       "      <td>B1145</td>\n",
       "      <td>III</td>\n",
       "      <td>G3</td>\n",
       "      <td>descending</td>\n",
       "    </tr>\n",
       "    <tr>\n",
       "      <th>15</th>\n",
       "      <td>TCGA-AA-3655</td>\n",
       "      <td>A1023</td>\n",
       "      <td>II</td>\n",
       "      <td>G2</td>\n",
       "      <td>sigmoid colon</td>\n",
       "    </tr>\n",
       "    <tr>\n",
       "      <th>16</th>\n",
       "      <td>TCGA-AA-A02E</td>\n",
       "      <td>B788</td>\n",
       "      <td>IV</td>\n",
       "      <td>G2</td>\n",
       "      <td>ileocaecal</td>\n",
       "    </tr>\n",
       "    <tr>\n",
       "      <th>17</th>\n",
       "      <td>TCGA-AA-A01X</td>\n",
       "      <td>B401</td>\n",
       "      <td>III</td>\n",
       "      <td>G2</td>\n",
       "      <td>sigmoid colon</td>\n",
       "    </tr>\n",
       "    <tr>\n",
       "      <th>18</th>\n",
       "      <td>TCGA-AA-A01X</td>\n",
       "      <td>B401</td>\n",
       "      <td>III</td>\n",
       "      <td>G2</td>\n",
       "      <td>sigmoid colon</td>\n",
       "    </tr>\n",
       "    <tr>\n",
       "      <th>19</th>\n",
       "      <td>TCGA-AA-A01X</td>\n",
       "      <td>B401</td>\n",
       "      <td>III</td>\n",
       "      <td>G2</td>\n",
       "      <td>sigmoid colon</td>\n",
       "    </tr>\n",
       "  </tbody>\n",
       "</table>\n",
       "</div>"
      ],
      "text/plain": [
       "            TCGA CASE_NO STAGE GRADING      LOCALIZATION\n",
       "0   TCGA-AA-3526   A1888     I      G2     sigmoid colon\n",
       "1   TCGA-AA-3831   B1164    II      G3     sigmoid colon\n",
       "2   TCGA-AA-3529   A1862   III      G2     sigmoid colon\n",
       "3   TCGA-AA-3529   A1862   III      G2        descending\n",
       "4   TCGA-AA-A01C   A2733   III      G2  transverse colon\n",
       "5   TCGA-AA-A01C   A2733   III      G2   ascending colon\n",
       "6   TCGA-AA-3549   A2327     I      G2        ileocaecal\n",
       "7   TCGA-AA-3696   A2779    IV      G2     sigmoid colon\n",
       "8   TCGA-AA-A03F    A607   III      G2        ileocaecal\n",
       "9   TCGA-AA-3697    A302    II      G2     sigmoid colon\n",
       "10  TCGA-AA-A02H    B936    IV      G3     sigmoid colon\n",
       "11  TCGA-AA-3517   A1717   NaN     NaN        descending\n",
       "12  TCGA-AA-3517   A1717    II      G2          flexture\n",
       "13  TCGA-AA-3819   B1034    II      G2     sigmoid colon\n",
       "14  TCGA-AA-3952   B1145   III      G3        descending\n",
       "15  TCGA-AA-3655   A1023    II      G2     sigmoid colon\n",
       "16  TCGA-AA-A02E    B788    IV      G2        ileocaecal\n",
       "17  TCGA-AA-A01X    B401   III      G2     sigmoid colon\n",
       "18  TCGA-AA-A01X    B401   III      G2     sigmoid colon\n",
       "19  TCGA-AA-A01X    B401   III      G2     sigmoid colon"
      ]
     },
     "execution_count": 11,
     "metadata": {},
     "output_type": "execute_result"
    }
   ],
   "source": [
    "#We drop all columns in which one bin has >80% distribution\n",
    "case_171 = case_171[['TCGA','CASE_NO','STAGE','GRADING','LOCALIZATION']]\n",
    "\n",
    "case_171['STAGE'].replace(['IIA','IIB'],'II', inplace=True)\n",
    "case_171['STAGE'].replace(['III A','III B','III C'],'III', inplace=True)\n",
    "case_171['STAGE'].replace(['IVA','IVB'],'IV', inplace=True)\n",
    "\n",
    "print \"## New STAGE distribution ## \\n\"\n",
    "print case_171.STAGE.value_counts()/case_171.shape[0] * 100\n",
    "\n",
    "case_171['LOCALIZATION'].replace(['right flexure','left flexure'],'flexture',inplace=True)\n",
    "case_171['LOCALIZATION'].replace(['descending colon','rectum'],'descending',inplace=True)\n",
    "print \"##New LOCALIZATION distribution##\\n\"\n",
    "print ( case_171.LOCALIZATION.value_counts() /case_171.shape[0] * 100)\n",
    "\n",
    "# NOTE :  There are more than one instance favailable for a few cases where tumor is found in multiple location \n",
    "# and the grade of tumor can be different for different locations\n",
    "case_171.head(20)"
   ]
  },
  {
   "cell_type": "code",
   "execution_count": 12,
   "metadata": {
    "collapsed": true
   },
   "outputs": [],
   "source": [
    "cols = ['STAGE','GRADING','LOCALIZATION']\n",
    "S_series = case_171.groupby('CASE_NO')['STAGE'].apply(list)\n",
    "G_series = case_171.groupby('CASE_NO')['GRADING'].apply(list)\n",
    "L_series = case_171.groupby('CASE_NO')['LOCALIZATION'].apply(list)\n",
    "\n",
    "S_s1 = pd.Series()\n",
    "G_s1 = pd.Series()\n",
    "L_s1 = pd.Series()\n",
    "\n",
    "for ix, val in S_series.iteritems() :\n",
    "    S_series[ix] = list(set(S_series[ix]))\n",
    "    if (np.nan in S_series[ix]): \n",
    "        S_series[ix].remove(np.nan) \n",
    "    if len(S_series[ix]) > 1:       \n",
    "        S_s1[ix] = S_series[ix][-1]\n",
    "    elif len(S_series[ix]) == 1: \n",
    "        S_s1[ix] = S_series[ix][0]\n",
    "    elif len(S_series[ix]) == 0: \n",
    "        S_s1[ix] = np.nan\n",
    "        \n",
    "for ix, val in L_series.iteritems() :\n",
    "    L_series[ix] = list(set(L_series[ix]))\n",
    "    if (np.nan in L_series[ix]): \n",
    "        L_series[ix].remove(np.nan)  \n",
    "    if len(L_series[ix]) > 1:  \n",
    "        L_s1[ix] = 'multiple'\n",
    "    elif len(L_series[ix]) == 1: \n",
    "        L_s1[ix] = L_series[ix][-1]\n",
    "    elif len(L_series[ix]) == 0: \n",
    "        L_s1[ix] = np.nan\n",
    "        \n",
    "for ix, val in G_series.iteritems() :\n",
    "    G_series[ix] = list(set(G_series[ix]))\n",
    "    if (np.nan in G_series[ix]): \n",
    "        G_series[ix].remove(np.nan)  \n",
    "    if len(G_series[ix]) > 1:  \n",
    "        G_s1[ix] = G_series[ix][0]\n",
    "    elif len(G_series[ix]) == 1:\n",
    "        G_s1[ix] = G_series[ix][0]\n",
    "    elif len(G_series[ix]) == 0:\n",
    "        G_s1[ix] = np.nan"
   ]
  },
  {
   "cell_type": "code",
   "execution_count": 23,
   "metadata": {},
   "outputs": [
    {
     "name": "stdout",
     "output_type": "stream",
     "text": [
      "#### Before cleaning data ####\n",
      "\n",
      "CASE_NO\n",
      "A1023           [sigmoid colon]\n",
      "A1064           [sigmoid colon]\n",
      "A1101           [sigmoid colon]\n",
      "A114            [sigmoid colon]\n",
      "A1143              [ileocaecal]\n",
      "A117     [descending, flexture]\n",
      "A1193              [ileocaecal]\n",
      "A121          [ascending colon]\n",
      "A1211              [ileocaecal]\n",
      "A1230              [ileocaecal]\n",
      "Name: LOCALIZATION, dtype: object\n",
      "\n",
      "#### After cleaning ####\n",
      "\n",
      "A1023      sigmoid colon\n",
      "A1064      sigmoid colon\n",
      "A1101      sigmoid colon\n",
      "A114       sigmoid colon\n",
      "A1143         ileocaecal\n",
      "A117            multiple\n",
      "A1193         ileocaecal\n",
      "A121     ascending colon\n",
      "A1211         ileocaecal\n",
      "A1230         ileocaecal\n",
      "dtype: object\n"
     ]
    }
   ],
   "source": [
    "#list(set(['G3', 'G2','G4']))\n",
    "print \"#### Before cleaning data ####\\n\"\n",
    "print L_series.head(10)\n",
    "print \"\\n#### After cleaning ####\\n\"\n",
    "print L_s1.head(10)"
   ]
  },
  {
   "cell_type": "code",
   "execution_count": 13,
   "metadata": {},
   "outputs": [
    {
     "data": {
      "text/plain": [
       "(171, 4)"
      ]
     },
     "execution_count": 13,
     "metadata": {},
     "output_type": "execute_result"
    }
   ],
   "source": [
    "# Merge series into one frame \n",
    "frames= [G_s1,L_s1,S_s1]\n",
    "case_171_merged = pd.concat([G_s1,L_s1,S_s1], axis =1)\n",
    "case_171_merged.reset_index(inplace=True)\n",
    "case_171_merged.columns = ['CASE_NO','GRADE','LOCALIZATION','STAGE']\n",
    "case_171_merged.shape"
   ]
  },
  {
   "cell_type": "code",
   "execution_count": 14,
   "metadata": {},
   "outputs": [
    {
     "data": {
      "text/html": [
       "<div>\n",
       "<style>\n",
       "    .dataframe thead tr:only-child th {\n",
       "        text-align: right;\n",
       "    }\n",
       "\n",
       "    .dataframe thead th {\n",
       "        text-align: left;\n",
       "    }\n",
       "\n",
       "    .dataframe tbody tr th {\n",
       "        vertical-align: top;\n",
       "    }\n",
       "</style>\n",
       "<table border=\"1\" class=\"dataframe\">\n",
       "  <thead>\n",
       "    <tr style=\"text-align: right;\">\n",
       "      <th></th>\n",
       "      <th>CASE_NO</th>\n",
       "      <th>GRADE</th>\n",
       "      <th>LOCALIZATION</th>\n",
       "      <th>STAGE</th>\n",
       "    </tr>\n",
       "  </thead>\n",
       "  <tbody>\n",
       "    <tr>\n",
       "      <th>0</th>\n",
       "      <td>A1023</td>\n",
       "      <td>G2</td>\n",
       "      <td>sigmoid colon</td>\n",
       "      <td>II</td>\n",
       "    </tr>\n",
       "    <tr>\n",
       "      <th>1</th>\n",
       "      <td>A1064</td>\n",
       "      <td>G2</td>\n",
       "      <td>sigmoid colon</td>\n",
       "      <td>II</td>\n",
       "    </tr>\n",
       "    <tr>\n",
       "      <th>2</th>\n",
       "      <td>A1101</td>\n",
       "      <td>G2</td>\n",
       "      <td>sigmoid colon</td>\n",
       "      <td>IV</td>\n",
       "    </tr>\n",
       "    <tr>\n",
       "      <th>3</th>\n",
       "      <td>A114</td>\n",
       "      <td>G3</td>\n",
       "      <td>sigmoid colon</td>\n",
       "      <td>IV</td>\n",
       "    </tr>\n",
       "    <tr>\n",
       "      <th>4</th>\n",
       "      <td>A1143</td>\n",
       "      <td>G3</td>\n",
       "      <td>ileocaecal</td>\n",
       "      <td>II</td>\n",
       "    </tr>\n",
       "  </tbody>\n",
       "</table>\n",
       "</div>"
      ],
      "text/plain": [
       "  CASE_NO GRADE   LOCALIZATION STAGE\n",
       "0   A1023    G2  sigmoid colon    II\n",
       "1   A1064    G2  sigmoid colon    II\n",
       "2   A1101    G2  sigmoid colon    IV\n",
       "3    A114    G3  sigmoid colon    IV\n",
       "4   A1143    G3     ileocaecal    II"
      ]
     },
     "execution_count": 14,
     "metadata": {},
     "output_type": "execute_result"
    }
   ],
   "source": [
    "case_171_merged.head()"
   ]
  },
  {
   "cell_type": "code",
   "execution_count": 206,
   "metadata": {},
   "outputs": [
    {
     "name": "stdout",
     "output_type": "stream",
     "text": [
      "CASE_NO         0.000000\n",
      "GRADE           0.000000\n",
      "LOCALIZATION    0.000000\n",
      "STAGE           0.584795\n",
      "dtype: float64\n"
     ]
    }
   ],
   "source": [
    "print (case_171_merged.isnull().sum(axis=0)*100/case_171_merged.shape[0])"
   ]
  },
  {
   "cell_type": "code",
   "execution_count": 15,
   "metadata": {},
   "outputs": [
    {
     "name": "stdout",
     "output_type": "stream",
     "text": [
      "CASE_NO         0.0\n",
      "GRADE           0.0\n",
      "LOCALIZATION    0.0\n",
      "STAGE           0.0\n",
      "dtype: float64\n"
     ]
    }
   ],
   "source": [
    "## Find median of a column and then replace NaN with median , NOTE: not the most efficient way to fill NaN\n",
    "\n",
    "#STAGE_median = case_171.STAGE.value_counts().reset_index().sort_values(by=['STAGE','index'],ascending=[False,False]).loc[0]['index']\n",
    "#case_171['STAGE'].fillna(STAGE_median, inplace=True)\n",
    "\n",
    "#GRADING_median = case_171.GRADING.value_counts().reset_index().sort_values(by=['GRADING','index'],ascending=[False,False]).loc[0]['index']\n",
    "#case_171['GRADING'].fillna(GRADING_median, inplace=True)\n",
    "\n",
    "### A **better** way to fill NaN in every column with its own most frequent value for the entire dataframe\n",
    "\n",
    "case_171_merged = case_171_merged.apply(lambda x:x.fillna(x.value_counts().index[0]))\n",
    "\n",
    "print (case_171_merged.isnull().sum(axis=0)*100/case_171_merged.shape[0])"
   ]
  },
  {
   "cell_type": "code",
   "execution_count": 16,
   "metadata": {},
   "outputs": [
    {
     "name": "stdout",
     "output_type": "stream",
     "text": [
      "sigmoid colon       40.935673\n",
      "ascending colon     18.713450\n",
      "ileocaecal          16.374269\n",
      "transverse colon     7.602339\n",
      "multiple             6.432749\n",
      "flexture             5.847953\n",
      "descending           4.093567\n",
      "Name: LOCALIZATION, dtype: float64\n"
     ]
    }
   ],
   "source": [
    "print ( case_171_merged.LOCALIZATION.value_counts() /case_171_merged.shape[0] * 100)"
   ]
  },
  {
   "cell_type": "code",
   "execution_count": 17,
   "metadata": {},
   "outputs": [
    {
     "name": "stdout",
     "output_type": "stream",
     "text": [
      "['G1' 'G2' 'G3']\n",
      "['ascending colon' 'descending' 'flexture' 'ileocaecal' 'multiple'\n",
      " 'sigmoid colon' 'transverse colon']\n",
      "['I' 'II' 'III' 'IV']\n"
     ]
    }
   ],
   "source": [
    "## Assign numeric labels to categorical values for all the colums using \"LabelEncoder\"\n",
    "\n",
    "cols = ['GRADE','LOCALIZATION','STAGE']\n",
    "RTR_3cv_171cases = pd.DataFrame()\n",
    "RTR_3cv_171cases['CASE_NO']=case_171_merged['CASE_NO']\n",
    "for x in cols:\n",
    "    number = LabelEncoder()\n",
    "    RTR_3cv_171cases[x] = number.fit_transform(case_171_merged[x].astype('str'))\n",
    "    print number.classes_    "
   ]
  },
  {
   "cell_type": "code",
   "execution_count": 217,
   "metadata": {},
   "outputs": [
    {
     "data": {
      "text/html": [
       "<div>\n",
       "<style>\n",
       "    .dataframe thead tr:only-child th {\n",
       "        text-align: right;\n",
       "    }\n",
       "\n",
       "    .dataframe thead th {\n",
       "        text-align: left;\n",
       "    }\n",
       "\n",
       "    .dataframe tbody tr th {\n",
       "        vertical-align: top;\n",
       "    }\n",
       "</style>\n",
       "<table border=\"1\" class=\"dataframe\">\n",
       "  <thead>\n",
       "    <tr style=\"text-align: right;\">\n",
       "      <th></th>\n",
       "      <th>CASE_NO</th>\n",
       "      <th>GRADE</th>\n",
       "      <th>LOCALIZATION</th>\n",
       "      <th>STAGE</th>\n",
       "    </tr>\n",
       "  </thead>\n",
       "  <tbody>\n",
       "    <tr>\n",
       "      <th>0</th>\n",
       "      <td>A1023</td>\n",
       "      <td>1</td>\n",
       "      <td>5</td>\n",
       "      <td>1</td>\n",
       "    </tr>\n",
       "    <tr>\n",
       "      <th>1</th>\n",
       "      <td>A1064</td>\n",
       "      <td>1</td>\n",
       "      <td>5</td>\n",
       "      <td>1</td>\n",
       "    </tr>\n",
       "    <tr>\n",
       "      <th>2</th>\n",
       "      <td>A1101</td>\n",
       "      <td>1</td>\n",
       "      <td>5</td>\n",
       "      <td>3</td>\n",
       "    </tr>\n",
       "    <tr>\n",
       "      <th>3</th>\n",
       "      <td>A114</td>\n",
       "      <td>2</td>\n",
       "      <td>5</td>\n",
       "      <td>3</td>\n",
       "    </tr>\n",
       "    <tr>\n",
       "      <th>4</th>\n",
       "      <td>A1143</td>\n",
       "      <td>2</td>\n",
       "      <td>3</td>\n",
       "      <td>1</td>\n",
       "    </tr>\n",
       "    <tr>\n",
       "      <th>5</th>\n",
       "      <td>A117</td>\n",
       "      <td>1</td>\n",
       "      <td>4</td>\n",
       "      <td>0</td>\n",
       "    </tr>\n",
       "    <tr>\n",
       "      <th>6</th>\n",
       "      <td>A1193</td>\n",
       "      <td>1</td>\n",
       "      <td>3</td>\n",
       "      <td>1</td>\n",
       "    </tr>\n",
       "    <tr>\n",
       "      <th>7</th>\n",
       "      <td>A121</td>\n",
       "      <td>1</td>\n",
       "      <td>0</td>\n",
       "      <td>1</td>\n",
       "    </tr>\n",
       "    <tr>\n",
       "      <th>8</th>\n",
       "      <td>A1211</td>\n",
       "      <td>1</td>\n",
       "      <td>3</td>\n",
       "      <td>2</td>\n",
       "    </tr>\n",
       "    <tr>\n",
       "      <th>9</th>\n",
       "      <td>A1230</td>\n",
       "      <td>1</td>\n",
       "      <td>3</td>\n",
       "      <td>1</td>\n",
       "    </tr>\n",
       "  </tbody>\n",
       "</table>\n",
       "</div>"
      ],
      "text/plain": [
       "  CASE_NO  GRADE  LOCALIZATION  STAGE\n",
       "0   A1023      1             5      1\n",
       "1   A1064      1             5      1\n",
       "2   A1101      1             5      3\n",
       "3    A114      2             5      3\n",
       "4   A1143      2             3      1\n",
       "5    A117      1             4      0\n",
       "6   A1193      1             3      1\n",
       "7    A121      1             0      1\n",
       "8   A1211      1             3      2\n",
       "9   A1230      1             3      1"
      ]
     },
     "execution_count": 217,
     "metadata": {},
     "output_type": "execute_result"
    }
   ],
   "source": [
    "RTR_3cv_171cases.to_csv('./COAD_clinical_matrix/RTR_3cv_171cases.csv', sep = '\\t', index=False)\n",
    "RTR_3cv_171cases.head(10)"
   ]
  },
  {
   "cell_type": "code",
   "execution_count": null,
   "metadata": {
    "collapsed": true
   },
   "outputs": [],
   "source": []
  }
 ],
 "metadata": {
  "kernelspec": {
   "display_name": "Python 2",
   "language": "python",
   "name": "python2"
  },
  "language_info": {
   "codemirror_mode": {
    "name": "ipython",
    "version": 2
   },
   "file_extension": ".py",
   "mimetype": "text/x-python",
   "name": "python",
   "nbconvert_exporter": "python",
   "pygments_lexer": "ipython2",
   "version": "2.7.13"
  }
 },
 "nbformat": 4,
 "nbformat_minor": 2
}
